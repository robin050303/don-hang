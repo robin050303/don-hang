{
 "cells": [
  {
   "cell_type": "code",
   "execution_count": 3,
   "id": "cb7d8635",
   "metadata": {},
   "outputs": [
    {
     "name": "stdout",
     "output_type": "stream",
     "text": [
      "Xin giá:  12\n",
      "Total:  12\n"
     ]
    }
   ],
   "source": [
    "x = int(input(\"Xin giá:  \"))\n",
    "if x >= 150:\n",
    "    print(\"Total: \", x - 50)\n",
    "elif x >= 100:\n",
    "    print(\"Total: \", x - 25)\n",
    "elif x >= 75:\n",
    "    print(\"Total: \", x - 15)\n",
    "else:\n",
    "    print(\"Total: \", x)"
   ]
  }
 ],
 "metadata": {
  "kernelspec": {
   "display_name": "Python 3 (ipykernel)",
   "language": "python",
   "name": "python3"
  },
  "language_info": {
   "codemirror_mode": {
    "name": "ipython",
    "version": 3
   },
   "file_extension": ".py",
   "mimetype": "text/x-python",
   "name": "python",
   "nbconvert_exporter": "python",
   "pygments_lexer": "ipython3",
   "version": "3.10.0"
  }
 },
 "nbformat": 4,
 "nbformat_minor": 5
}
